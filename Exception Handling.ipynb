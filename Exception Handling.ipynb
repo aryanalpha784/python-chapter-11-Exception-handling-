{
 "cells": [
  {
   "cell_type": "code",
   "execution_count": 2,
   "id": "b742e2a0-38a7-4dd1-8ca9-2f99529dda27",
   "metadata": {},
   "outputs": [
    {
     "name": "stdin",
     "output_type": "stream",
     "text": [
      "Enter the number:  1\n"
     ]
    },
    {
     "name": "stdout",
     "output_type": "stream",
     "text": [
      "1.0\n",
      "Thanks for using this code\n"
     ]
    }
   ],
   "source": [
    "try:\n",
    "    a = int(input(\"Enter the number: \"))\n",
    "    c = 1/a\n",
    "    print(c)\n",
    "\n",
    "except ValueError as e:\n",
    "    print(\"Please Enter the valid value\")\n",
    "\n",
    "except ZeroDivisionError as e:\n",
    "    print(\"Make sure you are not dividing by 0\")\n",
    "\n",
    "print(\"Thanks for using this code\")"
   ]
  },
  {
   "cell_type": "code",
   "execution_count": 4,
   "id": "ee8aef14-222b-400b-891d-ae319ffa2fb5",
   "metadata": {},
   "outputs": [],
   "source": [
    "#Raising Exceptions"
   ]
  },
  {
   "cell_type": "code",
   "execution_count": 6,
   "id": "47a019f2-dbdc-4136-b288-32c915f1ff3b",
   "metadata": {},
   "outputs": [
    {
     "name": "stdout",
     "output_type": "stream",
     "text": [
      "11\n"
     ]
    }
   ],
   "source": [
    "def increment(num):\n",
    "    try:\n",
    "        return int(num) + 1\n",
    "    except:\n",
    "        raise ValueError (\"This is not good\")\n",
    "\n",
    "a = increment(10)\n",
    "print(a)"
   ]
  },
  {
   "cell_type": "code",
   "execution_count": 8,
   "id": "26c69d72-13cb-417c-8b6c-e01a02ce69f7",
   "metadata": {},
   "outputs": [],
   "source": [
    "#try with else clause"
   ]
  },
  {
   "cell_type": "code",
   "execution_count": 14,
   "id": "444a62c2-2a6e-48cb-a658-a826f6977aa2",
   "metadata": {},
   "outputs": [
    {
     "name": "stdin",
     "output_type": "stream",
     "text": [
      "Enter the number:  5\n"
     ]
    },
    {
     "name": "stdout",
     "output_type": "stream",
     "text": [
      "we were sucessfull\n"
     ]
    }
   ],
   "source": [
    "try:\n",
    "    a = int(input(\"Enter the number: \"))\n",
    "    c = 1/a\n",
    "\n",
    "except Exception as e:\n",
    "    print(e)\n",
    "\n",
    "else:\n",
    "    print(\"we were sucessfull\")"
   ]
  },
  {
   "cell_type": "code",
   "execution_count": 16,
   "id": "ec1079d5-0210-4de0-9a90-ae6c1155ab94",
   "metadata": {},
   "outputs": [],
   "source": [
    "#try with finally"
   ]
  },
  {
   "cell_type": "code",
   "execution_count": 20,
   "id": "682b8967-bbe8-44a7-a911-8dd49ad9b884",
   "metadata": {},
   "outputs": [
    {
     "name": "stdin",
     "output_type": "stream",
     "text": [
      "Enter the number:  a\n"
     ]
    },
    {
     "name": "stdout",
     "output_type": "stream",
     "text": [
      "invalid literal for int() with base 10: 'a'\n",
      "We are Done\n",
      "Thanks for using this code\n"
     ]
    }
   ],
   "source": [
    "try:\n",
    "    a = int(input(\"Enter the number: \"))\n",
    "    c = 2/a\n",
    "\n",
    "except Exception as e:\n",
    "    print(e)\n",
    "\n",
    "finally:\n",
    "    print(\"We are Done\")\n",
    "\n",
    "print(\"Thanks for using this code\")"
   ]
  },
  {
   "cell_type": "code",
   "execution_count": 22,
   "id": "2632c6d0-3d9f-436f-b8de-b81c6f9e43d1",
   "metadata": {},
   "outputs": [],
   "source": [
    "#The Global Keyword"
   ]
  },
  {
   "cell_type": "code",
   "execution_count": 30,
   "id": "e8bbae85-f5ed-4ed2-9adc-177eb810f852",
   "metadata": {},
   "outputs": [
    {
     "name": "stdout",
     "output_type": "stream",
     "text": [
      "Print Statement 1: 54\n",
      "Print Statement 2: 8\n",
      "Print Statement 3: 8\n"
     ]
    }
   ],
   "source": [
    "a = 54\n",
    "\n",
    "def func1():\n",
    "    global a\n",
    "    print(f\"Print Statement 1: {a}\")\n",
    "    a = 8\n",
    "    print(f\"Print Statement 2: {a}\")\n",
    "\n",
    "func1()\n",
    "print(f\"Print Statement 3: {a}\")"
   ]
  },
  {
   "cell_type": "code",
   "execution_count": 32,
   "id": "acaa2d24-99e0-4a08-8983-5f0e0c216d13",
   "metadata": {},
   "outputs": [],
   "source": [
    "#Enumerate function in python"
   ]
  },
  {
   "cell_type": "code",
   "execution_count": 36,
   "id": "1d9332dd-2800-4a30-9507-a9647c840d69",
   "metadata": {},
   "outputs": [
    {
     "name": "stdout",
     "output_type": "stream",
     "text": [
      "3 0\n",
      "53 1\n",
      "2 2\n",
      "False 3\n",
      "6.2 4\n",
      "Harry 5\n"
     ]
    }
   ],
   "source": [
    "list_1 = [3,53,2,False,6.2,\"Harry\"]\n",
    "\n",
    "for index, item in enumerate(list_1):\n",
    "    print(item, index)"
   ]
  },
  {
   "cell_type": "code",
   "execution_count": 38,
   "id": "eafc9308-d584-433a-9929-1eb42c8ffa62",
   "metadata": {},
   "outputs": [],
   "source": [
    "#list Comprehensions"
   ]
  },
  {
   "cell_type": "code",
   "execution_count": 46,
   "id": "e89687c2-ccdd-4d6e-b28a-41dd394ca227",
   "metadata": {},
   "outputs": [
    {
     "data": {
      "text/plain": [
       "[12, 11, 22]"
      ]
     },
     "execution_count": 46,
     "metadata": {},
     "output_type": "execute_result"
    }
   ],
   "source": [
    "list_1 = [1, 7, 12, 11, 22]\n",
    "list_2 = [i for i in list_1 if i > 8]\n",
    "list_2"
   ]
  },
  {
   "cell_type": "markdown",
   "id": "d0ff7103-272b-40bd-a096-0d6388c821c1",
   "metadata": {},
   "source": [
    "# Questions"
   ]
  },
  {
   "cell_type": "markdown",
   "id": "4e208904-452d-4a41-aa39-1f892b2ca162",
   "metadata": {},
   "source": [
    "# 1.Write a program to open three files 1.txt, 2.txt and 3.txt.If any of these files are not present, a message without exiting the program must be printed the same."
   ]
  },
  {
   "cell_type": "code",
   "execution_count": 50,
   "id": "a21d2ffb-ad81-42e1-8da3-40318e34e4ab",
   "metadata": {},
   "outputs": [
    {
     "name": "stdout",
     "output_type": "stream",
     "text": [
      "\n",
      "file 2.txt is not found\n",
      "\n"
     ]
    }
   ],
   "source": [
    "def readfile(filename):\n",
    "    try:\n",
    "        with open (filename, 'r') as f:\n",
    "            print(f.read())\n",
    "    \n",
    "    except FileNotFoundError:\n",
    "        print(f\"file {filename} is not found\")\n",
    "\n",
    "readfile(\"1.txt\")\n",
    "readfile(\"2.txt\")\n",
    "readfile(\"3.txt\")"
   ]
  },
  {
   "cell_type": "markdown",
   "id": "92f598a4-c7cf-46f5-b6c3-00ae016cdb8b",
   "metadata": {},
   "source": [
    "# 2.Write a program to print fourth,fifth and seventh element from a list using enumerate function."
   ]
  },
  {
   "cell_type": "code",
   "execution_count": 62,
   "id": "ac2f3b73-3dfd-47bc-80b4-665e97a35647",
   "metadata": {},
   "outputs": [
    {
     "name": "stdout",
     "output_type": "stream",
     "text": [
      "the 4th element is 4\n",
      "the 5th element is 5\n",
      "the 7th element is 7\n"
     ]
    }
   ],
   "source": [
    "l = [1,2,3,4,5,6,7,8,9,10]\n",
    "\n",
    "for index, item in enumerate(l):\n",
    "    if index == 3 or index == 4 or index == 6:\n",
    "        print(f\"the {index + 1}th element is {item}\")"
   ]
  },
  {
   "cell_type": "markdown",
   "id": "4cb6cf58-5833-4ef8-ad08-f9b893dd26db",
   "metadata": {},
   "source": [
    "# 3.Write a list comprehension to print a list which contains the multiplication table of a user entered number."
   ]
  },
  {
   "cell_type": "code",
   "execution_count": 65,
   "id": "79ef01ba-e380-4d36-b776-4dd7194f5779",
   "metadata": {},
   "outputs": [
    {
     "name": "stdin",
     "output_type": "stream",
     "text": [
      "Enter the number:  3\n"
     ]
    },
    {
     "name": "stdout",
     "output_type": "stream",
     "text": [
      "[3, 6, 9, 12, 15, 18, 21, 24, 27, 30]\n"
     ]
    }
   ],
   "source": [
    "num = int(input(\"Enter the number: \"))\n",
    "\n",
    "table = [num*i for i in range(1,11)]\n",
    "print(table)"
   ]
  },
  {
   "cell_type": "markdown",
   "id": "a92d4f2a-196e-4ceb-9695-f86c9818728b",
   "metadata": {},
   "source": [
    "# 4.Write a program to display a/b where a and b are integers. If b=0, display infinite by handling the ZeroDivisionError."
   ]
  },
  {
   "cell_type": "code",
   "execution_count": 68,
   "id": "08aed746-866b-4b51-b131-828914cd08de",
   "metadata": {},
   "outputs": [
    {
     "name": "stdin",
     "output_type": "stream",
     "text": [
      "Enter the number a :  1\n",
      "Enter the number b :  0\n"
     ]
    },
    {
     "name": "stdout",
     "output_type": "stream",
     "text": [
      "Infinite\n"
     ]
    }
   ],
   "source": [
    "a = int(input(\"Enter the number a : \"))\n",
    "b = int(input(\"Enter the number b : \"))\n",
    "\n",
    "try:\n",
    "    print(a/b)\n",
    "\n",
    "except:\n",
    "    print(\"Infinite\")"
   ]
  },
  {
   "cell_type": "markdown",
   "id": "cbd71ecd-1420-4698-b3f2-6842a5285db6",
   "metadata": {},
   "source": [
    "# 5.Store the multiplication tables genrated in problem 3 in a file named table.txt."
   ]
  },
  {
   "cell_type": "code",
   "execution_count": 71,
   "id": "fe5d4ec0-6344-49aa-9ac6-773a084bcaa5",
   "metadata": {},
   "outputs": [
    {
     "name": "stdin",
     "output_type": "stream",
     "text": [
      "Enter the number:  5\n"
     ]
    },
    {
     "name": "stdout",
     "output_type": "stream",
     "text": [
      "[5, 10, 15, 20, 25, 30, 35, 40, 45, 50]\n"
     ]
    }
   ],
   "source": [
    "num = int(input(\"Enter the number: \"))\n",
    "\n",
    "table = [num*i for i in range(1,11)]\n",
    "print(table)\n",
    "\n",
    "with open (\"table.txt\",\"a\") as f:\n",
    "    f.write(str(table))"
   ]
  },
  {
   "cell_type": "code",
   "execution_count": null,
   "id": "bebda4b6-d586-4d2b-89a1-09240e95e87a",
   "metadata": {},
   "outputs": [],
   "source": []
  }
 ],
 "metadata": {
  "kernelspec": {
   "display_name": "Python 3 (ipykernel)",
   "language": "python",
   "name": "python3"
  },
  "language_info": {
   "codemirror_mode": {
    "name": "ipython",
    "version": 3
   },
   "file_extension": ".py",
   "mimetype": "text/x-python",
   "name": "python",
   "nbconvert_exporter": "python",
   "pygments_lexer": "ipython3",
   "version": "3.11.7"
  }
 },
 "nbformat": 4,
 "nbformat_minor": 5
}
