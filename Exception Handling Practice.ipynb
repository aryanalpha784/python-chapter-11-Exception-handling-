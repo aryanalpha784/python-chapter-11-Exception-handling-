{
 "cells": [
  {
   "cell_type": "code",
   "execution_count": 4,
   "id": "503d9caf-dc0e-4737-954f-dcef8aedb1f1",
   "metadata": {},
   "outputs": [
    {
     "name": "stdout",
     "output_type": "stream",
     "text": [
      "Press q to quit\n"
     ]
    },
    {
     "name": "stdin",
     "output_type": "stream",
     "text": [
      "Enter the number: 4\n"
     ]
    },
    {
     "name": "stdout",
     "output_type": "stream",
     "text": [
      "Trying...\n",
      "Press q to quit\n"
     ]
    },
    {
     "name": "stdin",
     "output_type": "stream",
     "text": [
      "Enter the number: 6\n"
     ]
    },
    {
     "name": "stdout",
     "output_type": "stream",
     "text": [
      "Trying...\n",
      "Press q to quit\n"
     ]
    },
    {
     "name": "stdin",
     "output_type": "stream",
     "text": [
      "Enter the number: 7\n"
     ]
    },
    {
     "name": "stdout",
     "output_type": "stream",
     "text": [
      "Trying...\n",
      "You entered a number greater than 6\n",
      "Press q to quit\n"
     ]
    },
    {
     "name": "stdin",
     "output_type": "stream",
     "text": [
      "Enter the number: 5\n"
     ]
    },
    {
     "name": "stdout",
     "output_type": "stream",
     "text": [
      "Trying...\n",
      "Press q to quit\n"
     ]
    },
    {
     "name": "stdin",
     "output_type": "stream",
     "text": [
      "Enter the number: 586\n"
     ]
    },
    {
     "name": "stdout",
     "output_type": "stream",
     "text": [
      "Trying...\n",
      "You entered a number greater than 6\n",
      "Press q to quit\n"
     ]
    },
    {
     "name": "stdin",
     "output_type": "stream",
     "text": [
      "Enter the number: 8\n"
     ]
    },
    {
     "name": "stdout",
     "output_type": "stream",
     "text": [
      "Trying...\n",
      "You entered a number greater than 6\n",
      "Press q to quit\n"
     ]
    },
    {
     "name": "stdin",
     "output_type": "stream",
     "text": [
      "Enter the number: 8\n"
     ]
    },
    {
     "name": "stdout",
     "output_type": "stream",
     "text": [
      "Trying...\n",
      "You entered a number greater than 6\n",
      "Press q to quit\n"
     ]
    },
    {
     "name": "stdin",
     "output_type": "stream",
     "text": [
      "Enter the number: 89\n"
     ]
    },
    {
     "name": "stdout",
     "output_type": "stream",
     "text": [
      "Trying...\n",
      "You entered a number greater than 6\n",
      "Press q to quit\n"
     ]
    },
    {
     "name": "stdin",
     "output_type": "stream",
     "text": [
      "Enter the number: q\n"
     ]
    },
    {
     "name": "stdout",
     "output_type": "stream",
     "text": [
      "THANKS FOR PLAYING THE GAME\n"
     ]
    }
   ],
   "source": [
    "while(True):\n",
    "    print(\"Press q to quit\")\n",
    "    a = input(\"Enter the number:\")\n",
    "    \n",
    "    if a == 'q':\n",
    "        break\n",
    "    \n",
    "    try:\n",
    "        print(\"Trying...\")\n",
    "        a = int(a)\n",
    "        if a > 6:\n",
    "            print(\"You entered a number greater than 6\")\n",
    "     \n",
    "    except exception as e:\n",
    "        print(e)/(f'Your input resuled in an erroe{e}')\n",
    "\n",
    "print(\"THANKS FOR PLAYING THE GAME\")"
   ]
  },
  {
   "cell_type": "code",
   "execution_count": 8,
   "id": "8e6c5d26-041b-403f-a3c6-293776409a73",
   "metadata": {},
   "outputs": [
    {
     "name": "stdin",
     "output_type": "stream",
     "text": [
      "Enter the number: 6\n"
     ]
    },
    {
     "name": "stdout",
     "output_type": "stream",
     "text": [
      "0.16666666666666666\n",
      "Thanks for using this code\n"
     ]
    }
   ],
   "source": [
    "try:\n",
    "    a = int(input(\"Enter the number:\"))\n",
    "    c = 1/a\n",
    "    print(c)\n",
    "\n",
    "except ValueError as e:\n",
    "    print(\"Enter the valid value\")\n",
    "\n",
    "except ZeroDivisionError as e:\n",
    "    print(\"Make sure you are not dividing by zero\")\n",
    "\n",
    "print(\"Thanks for using this code\")"
   ]
  },
  {
   "cell_type": "code",
   "execution_count": 12,
   "id": "fadc5439-ca6b-4831-92db-7bb71e295e56",
   "metadata": {},
   "outputs": [
    {
     "name": "stdin",
     "output_type": "stream",
     "text": [
      "enter the number: 5\n"
     ]
    },
    {
     "name": "stdout",
     "output_type": "stream",
     "text": [
      "We were successful\n"
     ]
    }
   ],
   "source": [
    "try:\n",
    "    i = int(input(\"enter the number:\"))\n",
    "    c = 1/i\n",
    "\n",
    "except Exception as e:\n",
    "    print(e)\n",
    "\n",
    "else:\n",
    "    print(\"We were successful\")"
   ]
  },
  {
   "cell_type": "code",
   "execution_count": 14,
   "id": "c942570d-08f1-45d9-8c6c-a43c812022c2",
   "metadata": {},
   "outputs": [
    {
     "name": "stdout",
     "output_type": "stream",
     "text": [
      "0 1\n",
      "1 2\n",
      "2 3\n",
      "3 4\n",
      "4 5\n"
     ]
    }
   ],
   "source": [
    "l = [1,2,3,4,5]\n",
    "\n",
    "for i,item in enumerate(l):\n",
    "    print(i, item)"
   ]
  },
  {
   "cell_type": "code",
   "execution_count": 27,
   "id": "35130de1-1214-4943-84b1-e631033733b0",
   "metadata": {},
   "outputs": [],
   "source": [
    "l = [1,2,3,4,5,6,7,8,9,10]\n",
    "c = [i for item in l if i > 8]"
   ]
  },
  {
   "cell_type": "code",
   "execution_count": 29,
   "id": "290976fa-0e33-4257-80ec-fa20f834581e",
   "metadata": {},
   "outputs": [
    {
     "data": {
      "text/plain": [
       "[]"
      ]
     },
     "execution_count": 29,
     "metadata": {},
     "output_type": "execute_result"
    }
   ],
   "source": [
    "c"
   ]
  },
  {
   "cell_type": "code",
   "execution_count": null,
   "id": "f4fe24c7-6367-4c79-aeeb-414415a5e16b",
   "metadata": {},
   "outputs": [],
   "source": []
  }
 ],
 "metadata": {
  "kernelspec": {
   "display_name": "Python 3 (ipykernel)",
   "language": "python",
   "name": "python3"
  },
  "language_info": {
   "codemirror_mode": {
    "name": "ipython",
    "version": 3
   },
   "file_extension": ".py",
   "mimetype": "text/x-python",
   "name": "python",
   "nbconvert_exporter": "python",
   "pygments_lexer": "ipython3",
   "version": "3.11.7"
  }
 },
 "nbformat": 4,
 "nbformat_minor": 5
}
